{
  "nbformat": 4,
  "nbformat_minor": 0,
  "metadata": {
    "colab": {
      "provenance": [],
      "include_colab_link": true
    },
    "kernelspec": {
      "name": "python3",
      "display_name": "Python 3"
    }
  },
  "cells": [
    {
      "cell_type": "markdown",
      "metadata": {
        "id": "view-in-github",
        "colab_type": "text"
      },
      "source": [
        "<a href=\"https://colab.research.google.com/github/NogginBops/DD2363_VT23/blob/main/Lab1/report_lab_1.ipynb\" target=\"_parent\"><img src=\"https://colab.research.google.com/assets/colab-badge.svg\" alt=\"Open In Colab\"/></a>"
      ]
    },
    {
      "cell_type": "markdown",
      "metadata": {
        "id": "6RgtXlfYO_i7"
      },
      "source": [
        "# **Lab X: Title**\n",
        "**Johan Hoffman**"
      ]
    },
    {
      "cell_type": "markdown",
      "metadata": {
        "id": "9x_J5FVuPzbm"
      },
      "source": [
        "# **Abstract**"
      ]
    },
    {
      "cell_type": "markdown",
      "metadata": {
        "id": "6UFTSzW7P8kL"
      },
      "source": [
        "\n",
        "\n",
        "```\n",
        "# This is formatted as code\n",
        "```\n",
        "\n",
        "Short summary of the lab report. State the objectives, methods used, main results and conlusions. "
      ]
    },
    {
      "cell_type": "markdown",
      "metadata": {
        "id": "yJipbXtnjrJZ"
      },
      "source": []
    },
    {
      "cell_type": "markdown",
      "metadata": {
        "id": "OkT8J7uOWpT3"
      },
      "source": [
        "#**About the code**"
      ]
    },
    {
      "cell_type": "markdown",
      "metadata": {
        "id": "HmB2noTr1Oyo"
      },
      "source": [
        "A short statement on who is the author of the file, and if the code is distributed under a certain license. "
      ]
    },
    {
      "cell_type": "code",
      "metadata": {
        "id": "Pdll1Xc9WP0e",
        "colab": {
          "base_uri": "https://localhost:8080/",
          "height": 35
        },
        "outputId": "c9d99a82-49f9-48a1-c0bf-399ebcd038f9"
      },
      "source": [
        "\"\"\"This program is a template for lab reports in the course\"\"\"\n",
        "\"\"\"DD2363 Methods in Scientific Computing, \"\"\"\n",
        "\"\"\"KTH Royal Institute of Technology, Stockholm, Sweden.\"\"\"\n",
        "\n",
        "# Copyright (C) 2020 Johan Hoffman (jhoffman@kth.se)\n",
        "\n",
        "# This file is part of the course DD2365 Advanced Computation in Fluid Mechanics\n",
        "# KTH Royal Institute of Technology, Stockholm, Sweden\n",
        "#\n",
        "# This is free software: you can redistribute it and/or modify\n",
        "# it under the terms of the GNU Lesser General Public License as published by\n",
        "# the Free Software Foundation, either version 3 of the License, or\n",
        "# (at your option) any later version.\n",
        "\n",
        "# This template is maintained by Johan Hoffman\n",
        "# Please report problems to jhoffman@kth.se"
      ],
      "execution_count": 6,
      "outputs": [
        {
          "output_type": "execute_result",
          "data": {
            "text/plain": [
              "'KTH Royal Institute of Technology, Stockholm, Sweden.'"
            ],
            "application/vnd.google.colaboratory.intrinsic+json": {
              "type": "string"
            }
          },
          "metadata": {},
          "execution_count": 6
        }
      ]
    },
    {
      "cell_type": "markdown",
      "metadata": {
        "id": "28xLGz8JX3Hh"
      },
      "source": [
        "# **Set up environment**"
      ]
    },
    {
      "cell_type": "markdown",
      "metadata": {
        "id": "D2PYNusD08Wa"
      },
      "source": [
        "To have access to the neccessary modules you have to run this cell. If you need additional modules, this is where you add them. "
      ]
    },
    {
      "cell_type": "code",
      "metadata": {
        "id": "Xw7VlErAX7NS"
      },
      "source": [
        "# Load neccessary modules.\n",
        "from google.colab import files\n",
        "\n",
        "import time\n",
        "import numpy as np\n",
        "\n",
        "#try:\n",
        "#    from dolfin import *; from mshr import *\n",
        "#except ImportError as e:\n",
        "#    !apt-get install -y -qq software-properties-common \n",
        "#    !add-apt-repository -y ppa:fenics-packages/fenics\n",
        "#    !apt-get update -qq\n",
        "#    !apt install -y --no-install-recommends fenics\n",
        "#    from dolfin import *; from mshr import *\n",
        "    \n",
        "#import dolfin.common.plotting as fenicsplot\n",
        "\n",
        "from matplotlib import pyplot as plt\n",
        "from matplotlib import tri\n",
        "from matplotlib import axes\n",
        "from mpl_toolkits.mplot3d import Axes3D\n",
        "\n",
        "class SparseMatrix:\n",
        "  def __init__(self, val, col_idx, row_ptr):\n",
        "    self.val = val\n",
        "    self.col_idx = col_idx\n",
        "    self.row_ptr = row_ptr\n",
        "\n",
        "def sparse_from_dense(matrix):\n",
        "  val = []\n",
        "  col_idx = []\n",
        "  row_ptr = [0]\n",
        "\n",
        "  count = 0\n",
        "  for r, row in enumerate(matrix):\n",
        "    for c, v in enumerate(row):\n",
        "      if (v != 0):\n",
        "        count += 1;\n",
        "        val.append(v)\n",
        "        col_idx.append(c)\n",
        "    row_ptr.append(count)\n",
        "  return SparseMatrix(np.array(val, dtype=matrix.dtype), col_idx, row_ptr)\n"
      ],
      "execution_count": 7,
      "outputs": []
    },
    {
      "cell_type": "markdown",
      "metadata": {
        "id": "gnO3lhAigLev"
      },
      "source": [
        "# **Introduction**"
      ]
    },
    {
      "cell_type": "markdown",
      "metadata": {
        "id": "l5zMzgPlRAF6"
      },
      "source": [
        "Give a short description of the problem investigated in the report, and provide some background information so that the reader can understand the context. If appropriate, include a discussion on the state of the art. \n",
        "\n",
        "Briefly describe what method you have chosen to solve the problem, and justify why you selected that method. \n",
        "\n",
        "Here you can express mathematics through Latex syntax, and use hyperlinks for references.\n",
        "\n",
        "[Hyperlink to DD2363 course website.](https://kth.instructure.com/courses/17068)\n",
        "\n",
        "$\n",
        "{\\displaystyle \\frac{\\partial u}{\\partial t}} + u\\cdot \\nabla u +\\nabla p = f, \\quad \\nabla \\cdot u=0$\n",
        "\n"
      ]
    },
    {
      "cell_type": "markdown",
      "metadata": {
        "id": "jOQvukXZq5U5"
      },
      "source": [
        "# **Method**"
      ]
    },
    {
      "cell_type": "markdown",
      "metadata": {
        "id": "zF4iBj5VURZx"
      },
      "source": [
        "Describe the methods you used to solve the problem. This may be a combination of text, mathematical formulas (Latex), algorithms (code), data and output.  "
      ]
    },
    {
      "cell_type": "code",
      "source": [
        "def sparse_matrix_vector_product(matrix, vector):\n",
        "  res = np.zeros(len(vector), dtype=np.result_type(matrix.val, vector))\n",
        "  for i in range(len(res)):\n",
        "    for j in range(matrix.row_ptr[i], matrix.row_ptr[i+1]):\n",
        "      res[i] = res[i] + matrix.val[j] * vector[matrix.col_idx[j]]\n",
        "\n",
        "  return res"
      ],
      "metadata": {
        "id": "1IC42xsnBmEM"
      },
      "execution_count": 8,
      "outputs": []
    },
    {
      "cell_type": "code",
      "source": [
        "dense = np.array([[3.0, 2, 0, 2, 0, 0],\\\n",
        "                  [0, 2, 1, 0, 0, 0],\\\n",
        "                  [0, 0, 1, 0, 0, 0],\\\n",
        "                  [0, 0, 3, 2, 0, 0],\\\n",
        "                  [0, 0, 0, 0, 1, 0],\\\n",
        "                  [0, 0, 0, 0, 2, 3]])\n",
        "\n",
        "matrix = sparse_from_dense(dense)\n",
        "\n",
        "vector = np.array([1, 1, 1, 1, 1, 1])\n",
        "\n",
        "print(sparse_matrix_vector_product(matrix, vector))\n",
        "\n",
        "print(dense @ vector)"
      ],
      "metadata": {
        "id": "t2C63BH8C_sh",
        "outputId": "36427ac0-81cb-4444-f154-c200c0d1759a",
        "colab": {
          "base_uri": "https://localhost:8080/"
        }
      },
      "execution_count": 9,
      "outputs": [
        {
          "output_type": "stream",
          "name": "stdout",
          "text": [
            "[7. 3. 1. 5. 1. 5.]\n",
            "[7. 3. 1. 5. 1. 5.]\n"
          ]
        }
      ]
    },
    {
      "cell_type": "code",
      "source": [
        "# FIXME: Reference the error in the course book algorithm. And reference this also:\n",
        "# http://mlwiki.org/index.php/Householder_Transformation\n",
        "\n",
        "def qr_householder(matrix):\n",
        "  n = matrix.shape[0]\n",
        "  A = matrix.copy()\n",
        "  #print(A)\n",
        "  v = []\n",
        "  Q = np.identity(n)\n",
        "  for k in range(n - 1):\n",
        "    x = A[k:n, k]\n",
        "    v_k = x.copy()\n",
        "    norm = np.linalg.norm(x)\n",
        "    s = -np.sign(x[0])\n",
        "    v_k[0] = v_k[0] - s*norm\n",
        "    v_k = v_k/np.linalg.norm(v_k)\n",
        "    v.append(np.hstack((np.zeros(k), v_k)))\n",
        "    #print(\"---- k\", k, \"----\")\n",
        "    #print(\"x\",x, \"norm\", norm)\n",
        "    #print(\"v_k\",v_k)\n",
        "    for m in range(k, n):\n",
        "      #print(\"b\",A[k:n,m])\n",
        "      b = A[k:n,m].copy()\n",
        "      A[k:n,m] = A[k:n,m] - (2 * v_k * np.dot(v_k, A[k:n,m]))\n",
        "      #print(\"a\",A[k:n,m],\"dot\", np.dot(v_k, b), v_k, b, -2 * v_k * np.dot(v_k, b))\n",
        "    \n",
        "    v_kT = np.transpose(v_k)\n",
        "    I = np.identity(k)\n",
        "    F_k = np.identity(n - k) - 2 * ((v_k * v_kT) / np.dot(v_k, v_k))\n",
        "    Z = np.zeros((k, n - k))\n",
        "    print(I.shape, Z.shape, np.transpose(Z).shape, F_k.shape)\n",
        "    print(np.concatenate((I, Z), axis = 0))\n",
        "    Q_k = np.bmat([I, Z], [np.transpose(Z), F_k])\n",
        "    print(Q_k)\n",
        "    Q = np.transpose(Q_k) * Q\n",
        "\n",
        "  # FIXME: Use (5.10) and (5.13) to reconstruct Q\n",
        "  return Q, A\n",
        "\n",
        "def qr_householder2(A):\n",
        "    m, n = A.shape\n",
        "    Q = np.eye(m) # Orthogonal transform so far\n",
        "    R = A.copy() # Transformed matrix so far\n",
        "\n",
        "    for j in range(n):\n",
        "        # Find H = I - beta*u*u' to put zeros below R[j,j]\n",
        "        x = R[j:, j]\n",
        "        normx = np.linalg.norm(x)\n",
        "        rho = -np.sign(x[0])\n",
        "        u1 = x[0] - rho * normx\n",
        "        u = x / u1\n",
        "        u[0] = 1\n",
        "        beta = -rho * u1 / normx\n",
        "\n",
        "        R[j:, :] = R[j:, :] - beta * np.outer(u, u).dot(R[j:, :])\n",
        "        Q[:, j:] = Q[:, j:] - beta * Q[:, j:].dot(np.outer(u, u))\n",
        "    \n",
        "    return Q, R\n",
        "\n",
        "def is_upper_triangular(matrix):\n",
        "  m, n = matrix.shape\n",
        "  for row in range(m):\n",
        "    for col in range(n):\n",
        "      if col < row:\n",
        "        if matrix[row, col] > 1e-15:\n",
        "          return False\n",
        "  return True\n",
        "\n",
        "print(\"m\", dense)\n",
        "\n",
        "print(\"q1\", qr_householder(dense)[0])\n",
        "print(\"q1\", qr_householder(dense)[1])\n",
        "\n",
        "print(\"q2\", qr_householder2(dense)[0])\n",
        "print(\"q2\", qr_householder2(dense)[1])\n",
        "\n",
        "print(np.linalg.qr(dense)[0])\n",
        "\n",
        "print(\"R is upper triangular:\", is_upper_triangular(qr_householder(dense)[1]))"
      ],
      "metadata": {
        "colab": {
          "base_uri": "https://localhost:8080/",
          "height": 513
        },
        "id": "1dHJqK9ZNHGN",
        "outputId": "1b9ad539-c59f-4886-f572-1d49553df9dc"
      },
      "execution_count": 14,
      "outputs": [
        {
          "output_type": "stream",
          "name": "stdout",
          "text": [
            "m [[3. 2. 0. 2. 0. 0.]\n",
            " [0. 2. 1. 0. 0. 0.]\n",
            " [0. 0. 1. 0. 0. 0.]\n",
            " [0. 0. 3. 2. 0. 0.]\n",
            " [0. 0. 0. 0. 1. 0.]\n",
            " [0. 0. 0. 0. 2. 3.]]\n",
            "(0, 0) (0, 6) (6, 0) (6, 6)\n"
          ]
        },
        {
          "output_type": "error",
          "ename": "ValueError",
          "evalue": "ignored",
          "traceback": [
            "\u001b[0;31m---------------------------------------------------------------------------\u001b[0m",
            "\u001b[0;31mValueError\u001b[0m                                Traceback (most recent call last)",
            "\u001b[0;32m<ipython-input-14-67cdec59d99a>\u001b[0m in \u001b[0;36m<module>\u001b[0;34m\u001b[0m\n\u001b[1;32m     69\u001b[0m \u001b[0mprint\u001b[0m\u001b[0;34m(\u001b[0m\u001b[0;34m\"m\"\u001b[0m\u001b[0;34m,\u001b[0m \u001b[0mdense\u001b[0m\u001b[0;34m)\u001b[0m\u001b[0;34m\u001b[0m\u001b[0;34m\u001b[0m\u001b[0m\n\u001b[1;32m     70\u001b[0m \u001b[0;34m\u001b[0m\u001b[0m\n\u001b[0;32m---> 71\u001b[0;31m \u001b[0mprint\u001b[0m\u001b[0;34m(\u001b[0m\u001b[0;34m\"q1\"\u001b[0m\u001b[0;34m,\u001b[0m \u001b[0mqr_householder\u001b[0m\u001b[0;34m(\u001b[0m\u001b[0mdense\u001b[0m\u001b[0;34m)\u001b[0m\u001b[0;34m[\u001b[0m\u001b[0;36m0\u001b[0m\u001b[0;34m]\u001b[0m\u001b[0;34m)\u001b[0m\u001b[0;34m\u001b[0m\u001b[0;34m\u001b[0m\u001b[0m\n\u001b[0m\u001b[1;32m     72\u001b[0m \u001b[0mprint\u001b[0m\u001b[0;34m(\u001b[0m\u001b[0;34m\"q1\"\u001b[0m\u001b[0;34m,\u001b[0m \u001b[0mqr_householder\u001b[0m\u001b[0;34m(\u001b[0m\u001b[0mdense\u001b[0m\u001b[0;34m)\u001b[0m\u001b[0;34m[\u001b[0m\u001b[0;36m1\u001b[0m\u001b[0;34m]\u001b[0m\u001b[0;34m)\u001b[0m\u001b[0;34m\u001b[0m\u001b[0;34m\u001b[0m\u001b[0m\n\u001b[1;32m     73\u001b[0m \u001b[0;34m\u001b[0m\u001b[0m\n",
            "\u001b[0;32m<ipython-input-14-67cdec59d99a>\u001b[0m in \u001b[0;36mqr_householder\u001b[0;34m(matrix)\u001b[0m\n\u001b[1;32m     30\u001b[0m     \u001b[0mZ\u001b[0m \u001b[0;34m=\u001b[0m \u001b[0mnp\u001b[0m\u001b[0;34m.\u001b[0m\u001b[0mzeros\u001b[0m\u001b[0;34m(\u001b[0m\u001b[0;34m(\u001b[0m\u001b[0mk\u001b[0m\u001b[0;34m,\u001b[0m \u001b[0mn\u001b[0m \u001b[0;34m-\u001b[0m \u001b[0mk\u001b[0m\u001b[0;34m)\u001b[0m\u001b[0;34m)\u001b[0m\u001b[0;34m\u001b[0m\u001b[0;34m\u001b[0m\u001b[0m\n\u001b[1;32m     31\u001b[0m     \u001b[0mprint\u001b[0m\u001b[0;34m(\u001b[0m\u001b[0mI\u001b[0m\u001b[0;34m.\u001b[0m\u001b[0mshape\u001b[0m\u001b[0;34m,\u001b[0m \u001b[0mZ\u001b[0m\u001b[0;34m.\u001b[0m\u001b[0mshape\u001b[0m\u001b[0;34m,\u001b[0m \u001b[0mnp\u001b[0m\u001b[0;34m.\u001b[0m\u001b[0mtranspose\u001b[0m\u001b[0;34m(\u001b[0m\u001b[0mZ\u001b[0m\u001b[0;34m)\u001b[0m\u001b[0;34m.\u001b[0m\u001b[0mshape\u001b[0m\u001b[0;34m,\u001b[0m \u001b[0mF_k\u001b[0m\u001b[0;34m.\u001b[0m\u001b[0mshape\u001b[0m\u001b[0;34m)\u001b[0m\u001b[0;34m\u001b[0m\u001b[0;34m\u001b[0m\u001b[0m\n\u001b[0;32m---> 32\u001b[0;31m     \u001b[0mprint\u001b[0m\u001b[0;34m(\u001b[0m\u001b[0mnp\u001b[0m\u001b[0;34m.\u001b[0m\u001b[0mconcatenate\u001b[0m\u001b[0;34m(\u001b[0m\u001b[0;34m(\u001b[0m\u001b[0mI\u001b[0m\u001b[0;34m,\u001b[0m \u001b[0mZ\u001b[0m\u001b[0;34m)\u001b[0m\u001b[0;34m,\u001b[0m \u001b[0maxis\u001b[0m \u001b[0;34m=\u001b[0m \u001b[0;36m0\u001b[0m\u001b[0;34m)\u001b[0m\u001b[0;34m)\u001b[0m\u001b[0;34m\u001b[0m\u001b[0;34m\u001b[0m\u001b[0m\n\u001b[0m\u001b[1;32m     33\u001b[0m     \u001b[0mQ_k\u001b[0m \u001b[0;34m=\u001b[0m \u001b[0mnp\u001b[0m\u001b[0;34m.\u001b[0m\u001b[0mbmat\u001b[0m\u001b[0;34m(\u001b[0m\u001b[0;34m[\u001b[0m\u001b[0mI\u001b[0m\u001b[0;34m,\u001b[0m \u001b[0mZ\u001b[0m\u001b[0;34m]\u001b[0m\u001b[0;34m,\u001b[0m \u001b[0;34m[\u001b[0m\u001b[0mnp\u001b[0m\u001b[0;34m.\u001b[0m\u001b[0mtranspose\u001b[0m\u001b[0;34m(\u001b[0m\u001b[0mZ\u001b[0m\u001b[0;34m)\u001b[0m\u001b[0;34m,\u001b[0m \u001b[0mF_k\u001b[0m\u001b[0;34m]\u001b[0m\u001b[0;34m)\u001b[0m\u001b[0;34m\u001b[0m\u001b[0;34m\u001b[0m\u001b[0m\n\u001b[1;32m     34\u001b[0m     \u001b[0mprint\u001b[0m\u001b[0;34m(\u001b[0m\u001b[0mQ_k\u001b[0m\u001b[0;34m)\u001b[0m\u001b[0;34m\u001b[0m\u001b[0;34m\u001b[0m\u001b[0m\n",
            "\u001b[0;32m<__array_function__ internals>\u001b[0m in \u001b[0;36mconcatenate\u001b[0;34m(*args, **kwargs)\u001b[0m\n",
            "\u001b[0;31mValueError\u001b[0m: all the input array dimensions for the concatenation axis must match exactly, but along dimension 1, the array at index 0 has size 0 and the array at index 1 has size 6"
          ]
        }
      ]
    },
    {
      "cell_type": "markdown",
      "metadata": {
        "id": "SsQLT38gVbn_"
      },
      "source": [
        "# **Results**"
      ]
    },
    {
      "cell_type": "markdown",
      "metadata": {
        "id": "RLwlnOzuV-Cd"
      },
      "source": [
        "Present the results. If the result is an algorithm that you have described under the *Methods* section, you can present the data from verification and performance tests in this section. If the result is the output from a computational experiment this is where you present a selection of that data. "
      ]
    },
    {
      "cell_type": "markdown",
      "metadata": {
        "id": "_4GLBv0zWr7m"
      },
      "source": [
        "# **Discussion**"
      ]
    },
    {
      "cell_type": "markdown",
      "metadata": {
        "id": "6bcsDSoRXHZe"
      },
      "source": [
        "Summarize your results and your conclusions. Were the results expected or surprising. Do your results have implications outside the particular problem investigated in this report? "
      ]
    },
    {
      "cell_type": "markdown",
      "metadata": {
        "id": "1vcIILuQYsEA"
      },
      "source": [
        "# **APPENDIX**"
      ]
    },
    {
      "cell_type": "markdown",
      "metadata": {
        "id": "NlJ-Y9KAYt4Z"
      },
      "source": [
        "In this appendix some examples are given to express and visualizing mathematical concepts such as vectors, matrices, meshes and functions. \n",
        "\n",
        "This is not part of the template report for the course."
      ]
    },
    {
      "cell_type": "code",
      "metadata": {
        "id": "Y-enWfBvcbRZ"
      },
      "source": [],
      "execution_count": null,
      "outputs": []
    },
    {
      "cell_type": "markdown",
      "metadata": {
        "id": "I5Kf3qRyY5J5"
      },
      "source": [
        "# **Vector**"
      ]
    },
    {
      "cell_type": "markdown",
      "metadata": {
        "id": "SBKa3PEj0N9D"
      },
      "source": [
        "In this cell some basic commands are introduced for how to define and process a vector, where the NumPy array data type is used. "
      ]
    },
    {
      "cell_type": "code",
      "metadata": {
        "id": "PbnT724f5mfQ"
      },
      "source": [
        "# Just a test\n",
        "# Create a vector as a NumPy array\n",
        "x = np.array([1,2,3,4])\n",
        "\n",
        "# Print various attributes of the vector\n",
        "print('x =',x)\n",
        "print('x[2] =',x[2])\n",
        "print('x[0:2] =',x[0:2])\n",
        "print('x.shape =',x.shape)\n",
        "print('x.ndim =',x.ndim)\n",
        "print('x.size =',x.size)\n",
        "print('x.dtype =',x.dtype)\n",
        "\n",
        "# Print the elements of vector x\n",
        "for i in range(x.size):\n",
        "  print(\"x[\",i,\"] =\",x[i])\n",
        "\n",
        "# Assign a float value to the int vector x\n",
        "x[1] = 2.1\n",
        "print('x =',x)\n",
        "\n",
        "# Copy the int vector x to a float vector xf\n",
        "xf = x.astype(float)\n",
        "xf[1] = 2.1\n",
        "print('xf =',xf)\n",
        "print('xf.dtype =',xf.dtype)\n",
        "\n",
        "# Create a complex vector \n",
        "y = np.array([2,3,4], dtype=complex)\n",
        "print('y =',y)\n",
        "print('y.dtype =',y.dtype)\n",
        "\n",
        "# Create a vector z by defining a range through an increment\n",
        "z = np.arange(12, 28, 4.5)\n",
        "print('z =',z)\n",
        "\n",
        "# Overwrite the vector z by a vector of uniformly spaced elements in a range\n",
        "pi=np.pi\n",
        "pi\n",
        "z = np.linspace(0, 2*pi, 5)\n",
        "print('z =',z)\n",
        "\n",
        "# Visualize the vector in a plot. \n",
        "plt.figure()\n",
        "plt.plot(x,2*x,'ro-')\n",
        "plt.show()"
      ],
      "execution_count": null,
      "outputs": []
    },
    {
      "cell_type": "markdown",
      "metadata": {
        "id": "trQVmLgAZGU7"
      },
      "source": [
        "# **Matrix**"
      ]
    },
    {
      "cell_type": "markdown",
      "metadata": {
        "id": "ADesgm5x01TF"
      },
      "source": [
        "In this cell some basic commands for defining and processing a matrix\n",
        "is introduced, where we use the NumPy array data type. "
      ]
    },
    {
      "cell_type": "code",
      "metadata": {
        "id": "QdJvGD6NZKNc"
      },
      "source": [
        "# Define a matrix as a NumPy array\n",
        "A = np.array([[2,4,6], [3,6,9], [1,2,1]])\n",
        "\n",
        "# Print various attributes of the matrix \n",
        "print('A =',A)\n",
        "print('A[1,0] =',A[1,0])\n",
        "print('A[0] =',A[0])\n",
        "print('A.shape =',A.shape)\n",
        "print('A.ndim =',A.ndim)\n",
        "print('A.size =',A.size)\n",
        "\n",
        "# Plot the matrix\n",
        "plt.figure()\n",
        "plt.plot(A,'o-')\n",
        "\n",
        "# Construct a simple sparse matrix class using the CRS data structure\n",
        "class spMatrix:\n",
        "  def __init__(self, val, col_idx, row_ptr):\n",
        "    self.val = val\n",
        "    self.col_idx = col_idx\n",
        "    self.row_ptr = row_ptr\n",
        "    \n",
        "# Create a sparse matrix object \n",
        "val = np.array([3, 2, 2, 2, 1, 1, 3, 2, 1, 2, 3])\n",
        "col_idx = np.array([1, 2, 4, 2, 3, 3, 3, 4, 5, 5, 6])\n",
        "row_ptr = np.array([1, 4, 6, 7, 9, 10])\n",
        "spA = spMatrix(val, col_idx, row_ptr)\n",
        "\n",
        "# Print sparse matrix object attributes\n",
        "print('Sparse matrix values: \\n',spA.val)\n",
        "print('Sparse matrix column indices: \\n',spA.col_idx)\n",
        "print('Sparse matrix row pointer: \\n',spA.row_ptr)\n",
        "    "
      ],
      "execution_count": null,
      "outputs": []
    },
    {
      "cell_type": "markdown",
      "metadata": {
        "id": "idDHnPmv9c6H"
      },
      "source": [
        "# **Function**"
      ]
    },
    {
      "cell_type": "markdown",
      "metadata": {
        "id": "PwYg0g0-EH2J"
      },
      "source": [
        "In this cell we illustrate how functions are defined. "
      ]
    },
    {
      "cell_type": "code",
      "metadata": {
        "id": "eDlRKNOK9fNo"
      },
      "source": [
        "# Define a function f(x,y)\n",
        "def f(x,y):\n",
        "  return x + y \n",
        "\n",
        "# Verify the function output\n",
        "print('f(3,4) =',f(3,4))\n",
        "\n",
        "# Define a function of a function\n",
        "def g1(fcn,arg1,arg2):\n",
        "  z = fcn(arg1,arg2)\n",
        "  print('z =',z)\n",
        "\n",
        "# Call the function\n",
        "g1(f,6,7)\n",
        "\n",
        "# Define a function of a function with arguments in a list or array\n",
        "def g2(fcn,arg):\n",
        "  z = fcn(*arg)\n",
        "  print('z =',z)\n",
        "  \n",
        "# Call the function with arguments as list and array\n",
        "xlist = [8,9]\n",
        "xarray = np.array([11,3])\n",
        "g2(f,xlist)\n",
        "g2(f,xarray)\n",
        "\n",
        "# Define a function to format the print out for a matrix \n",
        "def printMatrix(A):\n",
        "   rows = A.shape[0]\n",
        "   cols = A.shape[1]\n",
        "   for i in range(0,rows):\n",
        "      for j in range(0,cols):\n",
        "         print(A[i,j],\" \", end='')\n",
        "      print()\n",
        "\n",
        "# Define matrix      \n",
        "A = np.array([[1,2,3], [4,5,6], [7,8,9]])\n",
        "\n",
        "# Verify the function output\n",
        "print('A =', A)\n",
        "print('A =')\n",
        "printMatrix(A)\n",
        "print('A^T =')\n",
        "printMatrix(A.transpose())\n",
        "\n",
        "# Plot a Euclidian position vector v \n",
        "def plotEVector(vec):\n",
        "  plt.figure()\n",
        "  plt.xlim([-1.5*vec[0], 1.5*vec[0]])\n",
        "  plt.ylim([-1.5*vec[1], 1.5*vec[1]])\n",
        "  plt.quiver(0, 0, vec[0], vec[1], scale=1, scale_units='xy', angles='xy')\n",
        "  plt.show()\n",
        "\n",
        "v = np.array([3,4])\n",
        "plotEVector(v)\n",
        "\n",
        "\n"
      ],
      "execution_count": null,
      "outputs": []
    },
    {
      "cell_type": "markdown",
      "metadata": {
        "id": "hmpw8QnuzSSD"
      },
      "source": [
        "# **Plot**"
      ]
    },
    {
      "cell_type": "code",
      "metadata": {
        "id": "6zmuvOqEzWfA"
      },
      "source": [
        "# Define a range for a parameter t\n",
        "t = np.arange( 0.0, 10, 0.5)\n",
        "\n",
        "# Initialize a new figure and set the size \n",
        "plt.figure(2)\n",
        "plt.figure(figsize=(12,6))\n",
        "\n",
        "# Define a subplot structure and choose the first subplot \n",
        "plt.subplot(121)\n",
        "\n",
        "# Plot a standard NumPy function against the parameter t\n",
        "plt.plot(t,np.cos(t))\n",
        "\n",
        "# Set plot labels and title for the subplot\n",
        "plt.xlabel('x')\n",
        "plt.ylabel('y')\n",
        "plt.title('My plot: $y = cos(x)$')\n",
        "\n",
        "# Choose the other subplot\n",
        "plt.subplot(122)\n",
        "\n",
        "# Plot three functions in the same subplot\n",
        "plt.plot(t, np.sin(f(t,3)), 'g*', t, 0.03*t**2, 'ro', t, 0.1*t, 'b')\n",
        "plt.axis([-1, 12, -2 ,3])\n",
        "\n",
        "# Show the figure\n",
        "plt.show()"
      ],
      "execution_count": null,
      "outputs": []
    },
    {
      "cell_type": "markdown",
      "metadata": {
        "id": "M2LbkCoxNV8i"
      },
      "source": [
        "# Triangular **mesh**"
      ]
    },
    {
      "cell_type": "markdown",
      "metadata": {
        "id": "cnwG2HPEFcyL"
      },
      "source": [
        "This cell describes how to generate a triangular mesh from a point cloud by the Delaunay algorithm. It also illustrates how to access the mesh data structures. "
      ]
    },
    {
      "cell_type": "code",
      "metadata": {
        "id": "4stcLbraNZPY"
      },
      "source": [
        "# Start the clock \n",
        "start = time.time()\n",
        "\n",
        "# Generate a point cloud\n",
        "Nx = 5\n",
        "Ny = 5\n",
        "hx = 1.0/(Nx-1)\n",
        "hy = 1.0/(Ny-1)\n",
        "x = np.zeros((Nx*Ny))\n",
        "y = np.zeros((Nx*Ny))\n",
        "for i in range(Nx):\n",
        "  for j in range(Ny):\n",
        "    x[i*Nx + j] = j*hx\n",
        "    y[i*Nx + j] = i*hy\n",
        "\n",
        "# Generate a mesh from the point cloud using a Delaunay algorithm\n",
        "mesh = tri.Triangulation( x, y )\n",
        "\n",
        "# Stop the clock\n",
        "end = time.time()\n",
        "\n",
        "# Print the measured time\n",
        "print (\"Mesh generation took: \", end - start, \"seconds (wall-clock time)\")\n",
        "\n",
        "# Print mesh data structure\n",
        "vertices = np.array([mesh.x, mesh.y])\n",
        "print('vertices = \\n', vertices)\n",
        "print('edges = \\n', mesh.edges)\n",
        "print('triangles = \\n', mesh.triangles)\n",
        "print('neighbor triangles = \\n', mesh.neighbors)\n",
        "\n",
        "# Plot the mesh \n",
        "plt.figure(3)\n",
        "plt.figure(figsize=(10,10))\n",
        "plt.triplot(mesh, 'bo-', lw=1)\n",
        "plt.title('Delaunay mesh')\n",
        "plt.show()\n",
        "\n",
        "# Define a function g(x,y)\n",
        "def g(x,y):\n",
        "    return np.sin(10*x)*np.cos(3*y)\n",
        "\n",
        "# Plot the function g(x,y) in a contour plot\n",
        "plt.figure(4)\n",
        "plt.tricontour(mesh, g(x,y), cmap=plt.cm.coolwarm)\n",
        "plt.show()\n",
        "\n",
        "# Plot the function g(x,y) in 3D as a surface plot\n",
        "fig = plt.figure(5)\n",
        "ax1 = fig.add_subplot(111, projection='3d')\n",
        "surf = ax1.plot_trisurf(mesh, g(x,y), cmap=plt.cm.coolwarm)\n",
        "fig.colorbar(surf, shrink=0.5, aspect=10)\n",
        "ax1.view_init(20,10)\n",
        "plt.show()"
      ],
      "execution_count": null,
      "outputs": []
    },
    {
      "cell_type": "markdown",
      "metadata": {
        "id": "lmSvJV4dYVN2"
      },
      "source": [
        "# Parametric **curve**"
      ]
    },
    {
      "cell_type": "markdown",
      "metadata": {
        "id": "fXevCzGfYZPj"
      },
      "source": [
        "This cell illustrates how to visualize a parametric curve."
      ]
    },
    {
      "cell_type": "code",
      "metadata": {
        "id": "V9qqme4YYhrW"
      },
      "source": [
        "# Define paramter range\n",
        "t = np.linspace(0, 4*np.pi, 100)\n",
        "\n",
        "# Define the curve\n",
        "x = t*np.cos(t)\n",
        "y = t*np.sin(t)\n",
        "z = t\n",
        "\n",
        "fig = plt.figure(6)\n",
        "ax = fig.gca(projection = '3d')\n",
        "ax.plot(x, y, z)\n",
        "plt.title('Parametric curve')\n",
        "plt.show()"
      ],
      "execution_count": null,
      "outputs": []
    }
  ]
}